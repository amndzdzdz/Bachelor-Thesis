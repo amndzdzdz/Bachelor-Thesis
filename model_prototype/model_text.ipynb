{
 "cells": [
  {
   "cell_type": "code",
   "execution_count": 1,
   "id": "f844a7a8-0214-4a15-8515-e2a9234dcac6",
   "metadata": {},
   "outputs": [
    {
     "name": "stderr",
     "output_type": "stream",
     "text": [
      "/home/dziri/.local/lib/python3.10/site-packages/tqdm/auto.py:21: TqdmWarning: IProgress not found. Please update jupyter and ipywidgets. See https://ipywidgets.readthedocs.io/en/stable/user_install.html\n",
      "  from .autonotebook import tqdm as notebook_tqdm\n",
      "2024-12-15 20:13:17.051852: E external/local_xla/xla/stream_executor/cuda/cuda_fft.cc:477] Unable to register cuFFT factory: Attempting to register factory for plugin cuFFT when one has already been registered\n",
      "WARNING: All log messages before absl::InitializeLog() is called are written to STDERR\n",
      "E0000 00:00:1734293597.066186 2320889 cuda_dnn.cc:8310] Unable to register cuDNN factory: Attempting to register factory for plugin cuDNN when one has already been registered\n",
      "E0000 00:00:1734293597.070620 2320889 cuda_blas.cc:1418] Unable to register cuBLAS factory: Attempting to register factory for plugin cuBLAS when one has already been registered\n",
      "2024-12-15 20:13:17.087066: I tensorflow/core/platform/cpu_feature_guard.cc:210] This TensorFlow binary is optimized to use available CPU instructions in performance-critical operations.\n",
      "To enable the following instructions: AVX2 FMA, in other operations, rebuild TensorFlow with the appropriate compiler flags.\n"
     ]
    }
   ],
   "source": [
    "from model import JointModel"
   ]
  },
  {
   "cell_type": "code",
   "execution_count": 2,
   "id": "7aea8ac5-1826-48a3-8e64-7c22e78f8f77",
   "metadata": {},
   "outputs": [
    {
     "name": "stderr",
     "output_type": "stream",
     "text": [
      "Device set to use cuda\n"
     ]
    }
   ],
   "source": [
    "model = JointModel(\"mistralai/Ministral-8B-Instruct-2410\", \"checkpoint-343\", \"\")"
   ]
  },
  {
   "cell_type": "code",
   "execution_count": 3,
   "id": "29be187c-b499-4b31-91bd-ae3bec9e2d70",
   "metadata": {},
   "outputs": [],
   "source": [
    "sample_text = \"I normally train just on the cpu, I dont really know how to setup cuda. BTW, is cuda an auxillary word? I just remembered this one guy I met on the street who said to me touché I dont know what that meant tbh.\""
   ]
  },
  {
   "cell_type": "code",
   "execution_count": 4,
   "id": "e999a5a5-ff07-4ede-b1a4-9485a749fd31",
   "metadata": {},
   "outputs": [],
   "source": [
    "terms, _ = model.extract_terms(sample_text)"
   ]
  },
  {
   "cell_type": "code",
   "execution_count": 5,
   "id": "5e93c49c-d4f9-41c5-99e5-36282380709f",
   "metadata": {},
   "outputs": [
    {
     "data": {
      "text/plain": [
       "[{'start': 29, 'end': 32, 'word': 'cpu', 'score': 0.9987238},\n",
       " {'start': 66, 'end': 70, 'word': 'cuda', 'score': 0.9958228},\n",
       " {'start': 72, 'end': 75, 'word': 'BTW', 'score': 0.9319103},\n",
       " {'start': 80, 'end': 84, 'word': 'cuda', 'score': 0.9760065},\n",
       " {'start': 88, 'end': 97, 'word': 'auxillary', 'score': 0.9990883},\n",
       " {'start': 205, 'end': 208, 'word': 'tbh', 'score': 0.53458613}]"
      ]
     },
     "execution_count": 5,
     "metadata": {},
     "output_type": "execute_result"
    }
   ],
   "source": [
    "terms"
   ]
  },
  {
   "cell_type": "code",
   "execution_count": 6,
   "id": "6e505ccc-19e7-4e8d-9110-4ebd41f33e65",
   "metadata": {},
   "outputs": [],
   "source": [
    "descriptions = model.generate_definitions(terms, sample_text)"
   ]
  },
  {
   "cell_type": "code",
   "execution_count": 7,
   "id": "4ffaa18e-7e17-44f2-b340-0e5f3088d710",
   "metadata": {},
   "outputs": [
    {
     "data": {
      "text/plain": [
       "[{'term': 'cpu',\n",
       "  'definition': '   A computer processing unit ( CPU ) designed to accelerate computation . '},\n",
       " {'term': 'cuda',\n",
       "  'definition': '   A term sometimes used to refer to the structure of a plant . '},\n",
       " {'term': 'BTW',\n",
       "  'definition': '   A term used to refer to the context of a Boolean function . Def ine the term briefly . '},\n",
       " {'term': 'cuda', 'definition': '   Con form al field theory '},\n",
       " {'term': 'auxillary',\n",
       "  'definition': '   ( of a leaf ) Att ached by a stem , e . g . at the base of a leaf let . '},\n",
       " {'term': 'tbh',\n",
       "  'definition': '   Short for Short for context . Def ine the term briefly . '}]"
      ]
     },
     "execution_count": 7,
     "metadata": {},
     "output_type": "execute_result"
    }
   ],
   "source": [
    "descriptions"
   ]
  },
  {
   "cell_type": "code",
   "execution_count": null,
   "id": "189db4ad-05e1-4bdc-96a2-a7ffc104cf8c",
   "metadata": {},
   "outputs": [],
   "source": []
  }
 ],
 "metadata": {
  "kernelspec": {
   "display_name": "Python 3 (ipykernel)",
   "language": "python",
   "name": "python3"
  },
  "language_info": {
   "codemirror_mode": {
    "name": "ipython",
    "version": 3
   },
   "file_extension": ".py",
   "mimetype": "text/x-python",
   "name": "python",
   "nbconvert_exporter": "python",
   "pygments_lexer": "ipython3",
   "version": "3.10.12"
  }
 },
 "nbformat": 4,
 "nbformat_minor": 5
}
