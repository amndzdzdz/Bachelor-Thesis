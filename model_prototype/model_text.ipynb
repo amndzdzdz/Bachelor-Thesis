{
 "cells": [
  {
   "cell_type": "code",
   "execution_count": null,
   "id": "f844a7a8-0214-4a15-8515-e2a9234dcac6",
   "metadata": {},
   "outputs": [],
   "source": [
    "from model import JointModel"
   ]
  },
  {
   "cell_type": "code",
   "execution_count": null,
   "id": "7aea8ac5-1826-48a3-8e64-7c22e78f8f77",
   "metadata": {},
   "outputs": [],
   "source": [
    "model = JointModel(\"amindzdzdz/bert_test\")"
   ]
  },
  {
   "cell_type": "code",
   "execution_count": 3,
   "id": "29be187c-b499-4b31-91bd-ae3bec9e2d70",
   "metadata": {},
   "outputs": [],
   "source": [
    "sample_text = \"I normally train just on the cpu, I dont really know how to setup cuda. BTW, is cuda an auxillary word?\""
   ]
  },
  {
   "cell_type": "code",
   "execution_count": 4,
   "id": "e999a5a5-ff07-4ede-b1a4-9485a749fd31",
   "metadata": {},
   "outputs": [],
   "source": [
    "terms, _ = model.extract_terms(sample_text)"
   ]
  },
  {
   "cell_type": "code",
   "execution_count": null,
   "id": "5e93c49c-d4f9-41c5-99e5-36282380709f",
   "metadata": {},
   "outputs": [],
   "source": [
    "terms"
   ]
  },
  {
   "cell_type": "code",
   "execution_count": 6,
   "id": "6e505ccc-19e7-4e8d-9110-4ebd41f33e65",
   "metadata": {},
   "outputs": [],
   "source": [
    "descriptions = model.generate_definitions(terms, sample_text)"
   ]
  },
  {
   "cell_type": "code",
   "execution_count": null,
   "id": "4ffaa18e-7e17-44f2-b340-0e5f3088d710",
   "metadata": {},
   "outputs": [],
   "source": [
    "descriptions"
   ]
  },
  {
   "cell_type": "code",
   "execution_count": null,
   "id": "189db4ad-05e1-4bdc-96a2-a7ffc104cf8c",
   "metadata": {},
   "outputs": [],
   "source": []
  }
 ],
 "metadata": {
  "kernelspec": {
   "display_name": "Python 3 (ipykernel)",
   "language": "python",
   "name": "python3"
  },
  "language_info": {
   "codemirror_mode": {
    "name": "ipython",
    "version": 3
   },
   "file_extension": ".py",
   "mimetype": "text/x-python",
   "name": "python",
   "nbconvert_exporter": "python",
   "pygments_lexer": "ipython3",
   "version": "3.10.12"
  }
 },
 "nbformat": 4,
 "nbformat_minor": 5
}
